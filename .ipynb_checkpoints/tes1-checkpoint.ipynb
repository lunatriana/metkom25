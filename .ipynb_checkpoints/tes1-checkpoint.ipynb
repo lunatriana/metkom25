{
 "cells": [
  {
   "cell_type": "markdown",
   "id": "6d819c59-cce0-40ba-836c-f1bfc0afa730",
   "metadata": {},
   "source": [
    "# tes"
   ]
  }
 ],
 "metadata": {
  "kernelspec": {
   "display_name": "Python 3 (ipykernel)",
   "language": "python",
   "name": "python3"
  },
  "language_info": {
   "codemirror_mode": {
    "name": "ipython",
    "version": 3
   },
   "file_extension": ".py",
   "mimetype": "text/x-python",
   "name": "python",
   "nbconvert_exporter": "python",
   "pygments_lexer": "ipython3",
   "version": "3.13.5"
  }
 },
 "nbformat": 4,
 "nbformat_minor": 5
}
