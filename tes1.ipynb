{
 "cells": [
  {
   "cell_type": "code",
   "execution_count": null,
   "id": "78e13d28-508c-46e9-bcc1-abe7b22ef17c",
   "metadata": {},
   "outputs": [],
   "source": [
    "# tes"
   ]
  },
  {
   "cell_type": "code",
   "execution_count": 2,
   "id": "9e1bc4f7-145b-46ae-9ed5-8db50f5717b1",
   "metadata": {},
   "outputs": [],
   "source": [
    "luna=1\n",
    "odi=2"
   ]
  },
  {
   "cell_type": "code",
   "execution_count": 3,
   "id": "942e0b24-2cd9-4422-8bfb-57f71a58f1bc",
   "metadata": {},
   "outputs": [
    {
     "name": "stdout",
     "output_type": "stream",
     "text": [
      "3\n"
     ]
    }
   ],
   "source": [
    "print(luna+odi)\n"
   ]
  },
  {
   "cell_type": "code",
   "execution_count": null,
   "id": "94a77a3a-d571-4b19-863d-4810de8834af",
   "metadata": {},
   "outputs": [],
   "source": []
  }
 ],
 "metadata": {
  "kernelspec": {
   "display_name": "Python 3 (ipykernel)",
   "language": "python",
   "name": "python3"
  },
  "language_info": {
   "codemirror_mode": {
    "name": "ipython",
    "version": 3
   },
   "file_extension": ".py",
   "mimetype": "text/x-python",
   "name": "python",
   "nbconvert_exporter": "python",
   "pygments_lexer": "ipython3",
   "version": "3.13.5"
  }
 },
 "nbformat": 4,
 "nbformat_minor": 5
}
